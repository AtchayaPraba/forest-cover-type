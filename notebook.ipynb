{
 "cells": [
  {
   "cell_type": "code",
   "execution_count": 1,
   "metadata": {},
   "outputs": [],
   "source": [
    "from typing import List"
   ]
  },
  {
   "cell_type": "code",
   "execution_count": 2,
   "metadata": {},
   "outputs": [],
   "source": [
    "REQUIREMWNTS_FILE_NAME = \"requirements.txt\"\n",
    "HYPHEN_E_DOT = \"-e .\"\n",
    "\n",
    "def get_requirements_list() -> List[str]:\n",
    "    \"\"\"\n",
    "    Description: This function returns the list of requirements (name of libraries required to be installed) \n",
    "    as mentioned in the 'rerequirements.txt' file.\n",
    "\n",
    "    return: List containg str\n",
    "    \"\"\"\n",
    "    with open(REQUIREMWNTS_FILE_NAME, \"r+\") as requirements_file:\n",
    "        requirements_list = requirements_file.readlines()\n",
    "        requirements_list = [requirement_name.replace(\"\\n\", \"\") for requirement_name in requirements_list]\n",
    "        if HYPHEN_E_DOT in requirements_list:\n",
    "            requirements_list = requirements_list.remove(HYPHEN_E_DOT)\n",
    "        else:\n",
    "            pass\n",
    "        return requirements_list"
   ]
  },
  {
   "cell_type": "code",
   "execution_count": 6,
   "metadata": {},
   "outputs": [
    {
     "name": "stdout",
     "output_type": "stream",
     "text": [
      "None\n"
     ]
    }
   ],
   "source": [
    "print(get_requirements_list())"
   ]
  },
  {
   "cell_type": "code",
   "execution_count": null,
   "metadata": {},
   "outputs": [],
   "source": []
  }
 ],
 "metadata": {
  "kernelspec": {
   "display_name": "Python 3.9.12 ('base')",
   "language": "python",
   "name": "python3"
  },
  "language_info": {
   "codemirror_mode": {
    "name": "ipython",
    "version": 3
   },
   "file_extension": ".py",
   "mimetype": "text/x-python",
   "name": "python",
   "nbconvert_exporter": "python",
   "pygments_lexer": "ipython3",
   "version": "3.9.12"
  },
  "orig_nbformat": 4,
  "vscode": {
   "interpreter": {
    "hash": "cb19912cd9a7068bc8457dd4d8277ef04d811eb90b9d96a7d17a14021a51ef3c"
   }
  }
 },
 "nbformat": 4,
 "nbformat_minor": 2
}
